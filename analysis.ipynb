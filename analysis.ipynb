{
 "cells": [
  {
   "metadata": {
    "collapsed": true
   },
   "cell_type": "code",
   "outputs": [],
   "execution_count": null,
   "source": [
    "#импорт необходимых библиотек; заранее в терминале выполнить команду pip install requests pandas dotenv\n",
    "import requests\n",
    "import os\n",
    "import pandas as pd\n",
    "\n",
    "from dotenv import load_dotenv\n",
    "load_dotenv()"
   ],
   "id": "ec7c1fba785146a4"
  },
  {
   "metadata": {
    "ExecuteTime": {
     "end_time": "2025-08-13T20:28:03.782883Z",
     "start_time": "2025-08-13T20:28:03.779635Z"
    }
   },
   "cell_type": "code",
   "outputs": [],
   "execution_count": 6,
   "source": [
    "#присваивание токена. Сам токен редактируется в .env\n",
    "wb_api_token=os.getenv('wb_api_token')"
   ],
   "id": "6606139c3bd6d603"
  },
  {
   "metadata": {
    "ExecuteTime": {
     "end_time": "2025-08-13T20:28:14.986657Z",
     "start_time": "2025-08-13T20:28:14.983689Z"
    }
   },
   "cell_type": "code",
   "outputs": [],
   "execution_count": 9,
   "source": [
    "#Устанавливается пользователем\n",
    "date_from = '2025-08-08'\n",
    "date_to = '2025-08-09'\n",
    "searchTextes = [\n",
    "    \"школьный рюкзак\",\n",
    "    \"школьный рюкзак для девочек 5 класс\",\n",
    "    \"школьный рюкзак для девочек\"\n",
    "]\n",
    "nmId=225056490"
   ],
   "id": "1e353c80ad6ee94f"
  },
  {
   "metadata": {},
   "cell_type": "code",
   "outputs": [],
   "execution_count": null,
   "source": [
    "# ===== АНАЛИТИКА =====\n",
    "# ==== Заказы и позиции по поисковым запросам товара ====\n",
    "# === ТОКЕН ===\n",
    "# ЗАМЕНИ НА СВОЙ (из кабинета продавца)\n",
    "# == ПАРАМЕТРЫ ==\n",
    "nmId = int(os.getenv('nmId'))\n",
    "#Дата устанавливается пользователем, разница в датах не более 7 дней\n",
    "date_from = '2025-08-09'\n",
    "date_to = '2025-08-15'\n",
    "#Кластеры устанавливаются пользователем\n",
    "searchTexts = [\n",
    "    \"школьный рюкзак\",\n",
    "    \"школьный рюкзак для девочек 5 класс\",\n",
    "    \"школьный рюкзак для девочек\"\n",
    "]\n",
    "\n",
    "params = {\n",
    "    \"period\": {\"start\": date_from, \"end\": date_to},\n",
    "    \"nmId\": nmId,\n",
    "    \"searchTexts\": searchTexts\n",
    "}\n",
    "\n",
    "headers = {\n",
    "    'Authorization': wb_api_token,\n",
    "    'Content-Type': 'application/json'\n",
    "}\n",
    "\n",
    "url = 'https://seller-analytics-api.wildberries.ru/api/v2/search-report/product/orders'\n",
    "\n",
    "# === ЗАПРОС ===\n",
    "res = requests.post(url, headers=headers, json=params)\n",
    "\n",
    "# === ОБРАБОТКА ОТВЕТА ===\n",
    "if res.status_code != 200:\n",
    "    print(f\"❌ Ошибка API: {res.status_code}\")\n",
    "    print(\"Текст ошибки:\", res.text)\n",
    "    exit()\n",
    "\n",
    "# Парсим JSON\n",
    "try:\n",
    "    data_dict = res.json()\n",
    "except Exception as e:\n",
    "    print(\"❌ Не удалось распарсить JSON:\", e)\n",
    "    exit()\n",
    "\n",
    "# Извлекаем 'items' из 'data'\n",
    "items = data_dict.get('data', {}).get('items', [])\n",
    "\n",
    "if not items:\n",
    "    print(\"⚠️ Нет данных в 'items'. Ответ:\", data_dict)\n",
    "    exit()\n",
    "\n",
    "# === 5. СОБИРАЕМ ДАННЫЕ В СПИСОК СЛОВАРЕЙ ===\n",
    "rows = []\n",
    "for item in items:\n",
    "    text = item.get('text', 'неизвестно')\n",
    "    frequency = item.get('frequency', 0)\n",
    "    for day in item.get('dateItems', []):\n",
    "        rows.append({\n",
    "            'Поисковый запрос': text,\n",
    "            'Частота': frequency,\n",
    "            'Дата': day.get('dt', ''),\n",
    "            'Средняя позиция': day.get('avgPosition', 0),\n",
    "            'Заказы': day.get('orders', 0)\n",
    "        })\n",
    "\n",
    "# === СОЗДАЁМ DataFrame ===\n",
    "df = pd.DataFrame(rows)\n",
    "\n",
    "# Проверим: сколько строк и столбцов\n",
    "print(\"✅ DataFrame создан:\")\n",
    "print(df.head())\n",
    "print(\"\\nСтруктура данных:\")\n",
    "print(df.dtypes)\n",
    "\n",
    "# === СОХРАНЯЕМ В CSV С ПРАВИЛЬНЫМ РАЗДЕЛИТЕЛЕМ ===\n",
    "try:\n",
    "    df.to_csv(\n",
    "        'wb_data.csv',\n",
    "        index=False,\n",
    "        encoding='utf-8-sig',\n",
    "        sep=';'  # ← Используем точку с запятой как разделитель (лучше для Excel)\n",
    "    )\n",
    "    print(\"✅ Файл 'wb_data_status.csv' сохранён с разделителем ';'\")\n",
    "    print(\"Открой его в Excel — столбцы будут разделены.\")\n",
    "except Exception as e:\n",
    "    print(f\"❌ Ошибка при сохранении: {e}\")"
   ],
   "id": "af6ba324def5aeb3"
  }
 ],
 "metadata": {
  "kernelspec": {
   "display_name": "Python 3",
   "language": "python",
   "name": "python3"
  },
  "language_info": {
   "codemirror_mode": {
    "name": "ipython",
    "version": 2
   },
   "file_extension": ".py",
   "mimetype": "text/x-python",
   "name": "python",
   "nbconvert_exporter": "python",
   "pygments_lexer": "ipython2",
   "version": "2.7.6"
  }
 },
 "nbformat": 4,
 "nbformat_minor": 5
}
