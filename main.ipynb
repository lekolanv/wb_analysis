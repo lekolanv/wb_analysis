{
 "cells": [
  {
   "cell_type": "code",
   "id": "initial_id",
   "metadata": {
    "collapsed": true,
    "ExecuteTime": {
     "end_time": "2025-08-10T13:57:38.607896Z",
     "start_time": "2025-08-10T13:57:38.599572Z"
    }
   },
   "source": [
    "#импорт необходимых библиотек; заранее в терминале выполнить команду pip install requests pandas dotenv\n",
    "import requests\n",
    "import os\n",
    "import pandas as pd\n",
    "\n",
    "from dotenv import load_dotenv\n",
    "load_dotenv()"
   ],
   "outputs": [
    {
     "data": {
      "text/plain": [
       "True"
      ]
     },
     "execution_count": 22,
     "metadata": {},
     "output_type": "execute_result"
    }
   ],
   "execution_count": 22
  },
  {
   "metadata": {
    "ExecuteTime": {
     "end_time": "2025-08-10T13:57:39.735957Z",
     "start_time": "2025-08-10T13:57:39.732642Z"
    }
   },
   "cell_type": "code",
   "source": [
    "#присваивание токена. Сам токен редактируется в .env\n",
    "wb_api_token=os.getenv('wb_api_token')"
   ],
   "id": "55aa003935f5535b",
   "outputs": [],
   "execution_count": 23
  },
  {
   "metadata": {
    "ExecuteTime": {
     "end_time": "2025-08-10T13:57:41.024532Z",
     "start_time": "2025-08-10T13:57:40.927151Z"
    }
   },
   "cell_type": "code",
   "source": [
    "#Кейс 1 - Информация о всех кампаниях. Результат представляет собой информацию о всех созданных рекламных кампаниях.\n",
    "url='https://advert-api.wildberries.ru/adv/v1/promotion/count'\n",
    "headers = {\n",
    "    'Authorization': wb_api_token\n",
    "}\n",
    "\n",
    "res = requests.get(url, headers=headers)\n",
    "campaigns_stats=res.json()\n",
    "camp_all_st = pd.DataFrame(campaigns_stats)\n",
    "camp_all_st.to_csv('wb_camp_data_all.csv', index=None)"
   ],
   "id": "9cf345aaef4d7c55",
   "outputs": [],
   "execution_count": 24
  },
  {
   "metadata": {
    "ExecuteTime": {
     "end_time": "2025-08-10T13:57:44.567659Z",
     "start_time": "2025-08-10T13:57:44.479415Z"
    }
   },
   "cell_type": "code",
   "outputs": [],
   "execution_count": 25,
   "source": [
    "#Кейс 2 - Информация о кампаниях. Метод предоставляет информацию о созданных рекламных кампаниях по их статусам, типам и ID.\n",
    "url='https://advert-api.wildberries.ru/adv/v1/promotion/adverts'\n",
    "headers = {\n",
    "    'Authorization': wb_api_token\n",
    "}\n",
    "#Статус кампании:\n",
    "#-1 - кампания в процессе удаления\n",
    "#4 - готова к запуску\n",
    "#7 - завершено\n",
    "#8 - отказался\n",
    "#9 - активно\n",
    "#11 - кампания на паузе\n",
    "params ={\n",
    "    #статус кампании\n",
    "    'status': 9\n",
    "}\n",
    "res = requests.post(url, headers=headers, params=params)\n",
    "campaigns_stats=res.json()\n",
    "camp_df = pd.DataFrame(campaigns_stats)\n",
    "camp_df.to_csv('wb_camp_data_status.csv', index=None)"
   ],
   "id": "4a3176a800ef334e"
  },
  {
   "metadata": {
    "ExecuteTime": {
     "end_time": "2025-08-10T13:56:21.008693Z",
     "start_time": "2025-08-10T13:56:21.004275Z"
    }
   },
   "cell_type": "code",
   "source": [
    "date_from = '2025-07-01'\n",
    "date_to = '2025-08-01'"
   ],
   "id": "18a91976335b32c2",
   "outputs": [],
   "execution_count": 20
  },
  {
   "metadata": {
    "ExecuteTime": {
     "end_time": "2025-08-10T13:56:21.335136Z",
     "start_time": "2025-08-10T13:56:21.019437Z"
    }
   },
   "cell_type": "code",
   "source": [
    "params=[{'id': c['advertId'], 'interval':{'begin': date_from, 'end': date_to}} for c in campaigns]\n",
    "\n",
    "\n",
    "url2= 'https://advert-api.wildberries.ru/adv/v0/stats/keywords'\n",
    "res = requests.get(url2, headers=headers, json=params)\n",
    "campaigns_stats=res.json()\n"
   ],
   "id": "6d1a5b7536cad6fb",
   "outputs": [
    {
     "ename": "NameError",
     "evalue": "name 'campaigns' is not defined",
     "output_type": "error",
     "traceback": [
      "\u001B[31m---------------------------------------------------------------------------\u001B[39m",
      "\u001B[31mNameError\u001B[39m                                 Traceback (most recent call last)",
      "\u001B[36mCell\u001B[39m\u001B[36m \u001B[39m\u001B[32mIn[21]\u001B[39m\u001B[32m, line 1\u001B[39m\n\u001B[32m----> \u001B[39m\u001B[32m1\u001B[39m params=[{\u001B[33m'\u001B[39m\u001B[33mid\u001B[39m\u001B[33m'\u001B[39m: c[\u001B[33m'\u001B[39m\u001B[33madvertId\u001B[39m\u001B[33m'\u001B[39m], \u001B[33m'\u001B[39m\u001B[33minterval\u001B[39m\u001B[33m'\u001B[39m:{\u001B[33m'\u001B[39m\u001B[33mbegin\u001B[39m\u001B[33m'\u001B[39m: date_from, \u001B[33m'\u001B[39m\u001B[33mend\u001B[39m\u001B[33m'\u001B[39m: date_to}} \u001B[38;5;28;01mfor\u001B[39;00m c \u001B[38;5;129;01min\u001B[39;00m \u001B[43mcampaigns\u001B[49m]\n\u001B[32m      4\u001B[39m url2= \u001B[33m'\u001B[39m\u001B[33mhttps://advert-api.wildberries.ru/adv/v0/stats/keywords\u001B[39m\u001B[33m'\u001B[39m\n\u001B[32m      5\u001B[39m res = requests.get(url2, headers=headers, json=params)\n",
      "\u001B[31mNameError\u001B[39m: name 'campaigns' is not defined"
     ]
    }
   ],
   "execution_count": 21
  },
  {
   "metadata": {},
   "cell_type": "code",
   "source": [
    "camp_data = []\n",
    "for c in campaigns_stats:\n",
    "    for d in c['days']:\n",
    "        for a in d['apps']:\n",
    "            for nm in a['nm']:\n",
    "                nm['appType'] = a ['appType']\n",
    "                nm['date'] = d['date']\n",
    "                nm['advertId'] = c['advertId']\n",
    "                camp_data.append(nm)\n",
    "\n"
   ],
   "id": "3db091131af1335",
   "outputs": [],
   "execution_count": null
  },
  {
   "metadata": {},
   "cell_type": "code",
   "source": [
    "camp_df = pd.DataFrame(camp_data)\n",
    "#camp_df.to_csv('wb_camp_data.csv', index=None)"
   ],
   "id": "38963c875cc8410f",
   "outputs": [],
   "execution_count": null
  },
  {
   "metadata": {},
   "cell_type": "code",
   "source": [
    "url = 'https://advert-api.wildberries.ru/adv/v2/auto/stat-words'\n",
    "campaign_id = campaigns[0]['advertId']\n",
    "params = {\n",
    "    'id': campaign_id\n",
    "}\n",
    "res = requests.get(url, headers=headers, params=params)\n",
    "res.json()"
   ],
   "id": "e2aba38423d1bee3",
   "outputs": [],
   "execution_count": null
  }
 ],
 "metadata": {
  "kernelspec": {
   "display_name": "Python 3",
   "language": "python",
   "name": "python3"
  },
  "language_info": {
   "codemirror_mode": {
    "name": "ipython",
    "version": 2
   },
   "file_extension": ".py",
   "mimetype": "text/x-python",
   "name": "python",
   "nbconvert_exporter": "python",
   "pygments_lexer": "ipython2",
   "version": "2.7.6"
  }
 },
 "nbformat": 4,
 "nbformat_minor": 5
}
