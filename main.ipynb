{
 "cells": [
  {
   "cell_type": "code",
   "id": "initial_id",
   "metadata": {
    "collapsed": true
   },
   "source": [
    "import requests\n",
    "import os\n",
    "import pandas as pd\n",
    "\n",
    "from dotenv import load_dotenv\n",
    "load_dotenv()"
   ],
   "outputs": [],
   "execution_count": null
  },
  {
   "metadata": {},
   "cell_type": "code",
   "source": "wb_api_token=os.getenv('wb_api_token')",
   "id": "55aa003935f5535b",
   "outputs": [],
   "execution_count": null
  },
  {
   "metadata": {},
   "cell_type": "code",
   "source": [
    "url='https://advert-api.wildberries.ru/adv/v1/promotion/adverts'\n",
    "headers = {\n",
    "    'Authorization': wb_api_token\n",
    "}\n",
    "params ={\n",
    "    'status': 9\n",
    "}\n",
    "res = requests.post(url, headers=headers, params=params)\n",
    "campaigns = res.json()\n",
    "len(res.json())\n"
   ],
   "id": "9cf345aaef4d7c55",
   "outputs": [],
   "execution_count": null
  },
  {
   "metadata": {},
   "cell_type": "code",
   "source": [
    "date_from = '2025-07-01'\n",
    "date_to = '2025-08-01'"
   ],
   "id": "18a91976335b32c2",
   "outputs": [],
   "execution_count": null
  },
  {
   "metadata": {},
   "cell_type": "code",
   "source": [
    "params=[{'id': c['advertId'], 'interval':{'begin': date_from, 'end': date_to}} for c in campaigns]\n",
    "\n",
    "\n",
    "url2= 'https://advert-api.wildberries.ru/adv/v0/stats/keywords'\n",
    "res = requests.get(url2, headers=headers, json=params)\n",
    "campaigns_stats=res.json()\n",
    "res.json()"
   ],
   "id": "6d1a5b7536cad6fb",
   "outputs": [],
   "execution_count": null
  },
  {
   "metadata": {},
   "cell_type": "code",
   "source": [
    "camp_data = []\n",
    "for c in campaigns_stats:\n",
    "    for d in c['days']:\n",
    "        for a in d['apps']:\n",
    "            for nm in a['nm']:\n",
    "                nm['appType'] = a ['appType']\n",
    "                nm['date'] = d['date']\n",
    "                nm['advertId'] = c['advertId']\n",
    "                camp_data.append(nm)\n",
    "\n"
   ],
   "id": "3db091131af1335",
   "outputs": [],
   "execution_count": null
  },
  {
   "metadata": {},
   "cell_type": "code",
   "source": [
    "camp_df = pd.DataFrame(camp_data)\n",
    "#camp_df.to_csv('wb_camp_data.csv', index=None)"
   ],
   "id": "38963c875cc8410f",
   "outputs": [],
   "execution_count": null
  },
  {
   "metadata": {},
   "cell_type": "code",
   "source": [
    "url = 'https://advert-api.wildberries.ru/adv/v2/auto/stat-words'\n",
    "campaign_id = campaigns[0]['advertId']\n",
    "params = {\n",
    "    'id': campaign_id\n",
    "}\n",
    "res = requests.get(url, headers=headers, params=params)\n",
    "res.json()"
   ],
   "id": "e2aba38423d1bee3",
   "outputs": [],
   "execution_count": null
  }
 ],
 "metadata": {
  "kernelspec": {
   "display_name": "Python 3",
   "language": "python",
   "name": "python3"
  },
  "language_info": {
   "codemirror_mode": {
    "name": "ipython",
    "version": 2
   },
   "file_extension": ".py",
   "mimetype": "text/x-python",
   "name": "python",
   "nbconvert_exporter": "python",
   "pygments_lexer": "ipython2",
   "version": "2.7.6"
  }
 },
 "nbformat": 4,
 "nbformat_minor": 5
}
