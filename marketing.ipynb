{
 "cells": [
  {
   "metadata": {
    "collapsed": true
   },
   "cell_type": "code",
   "outputs": [],
   "execution_count": null,
   "source": [
    "#импорт необходимых библиотек; заранее в терминале выполнить команду pip install requests pandas dotenv\n",
    "import requests\n",
    "import os\n",
    "import pandas as pd\n",
    "\n",
    "from dotenv import load_dotenv\n",
    "load_dotenv()"
   ],
   "id": "d8d8985cd9358733"
  },
  {
   "metadata": {
    "ExecuteTime": {
     "end_time": "2025-08-13T20:28:03.782883Z",
     "start_time": "2025-08-13T20:28:03.779635Z"
    }
   },
   "cell_type": "code",
   "outputs": [],
   "execution_count": 6,
   "source": [
    "#присваивание токена. Сам токен редактируется в .env\n",
    "wb_api_token=os.getenv('wb_api_token')"
   ],
   "id": "34f9107b14847586"
  },
  {
   "metadata": {
    "ExecuteTime": {
     "end_time": "2025-08-13T20:28:05.119909Z",
     "start_time": "2025-08-13T20:28:04.611501Z"
    }
   },
   "cell_type": "code",
   "outputs": [],
   "execution_count": 7,
   "source": [
    "#Кейс 1 - Информация о всех кампаниях. Результат представляет собой информацию о всех созданных рекламных кампаниях.\n",
    "url='https://advert-api.wildberries.ru/adv/v1/promotion/count'\n",
    "headers = {\n",
    "    'Authorization': wb_api_token\n",
    "}\n",
    "\n",
    "res = requests.get(url, headers=headers)\n",
    "campaigns_stats=res.json()\n",
    "camp_all_st = pd.DataFrame(campaigns_stats)\n",
    "camp_all_st.to_csv('wb_camp_data_all.csv', index=None)"
   ],
   "id": "4aa233e2f471169c"
  }
 ],
 "metadata": {
  "kernelspec": {
   "display_name": "Python 3",
   "language": "python",
   "name": "python3"
  },
  "language_info": {
   "codemirror_mode": {
    "name": "ipython",
    "version": 2
   },
   "file_extension": ".py",
   "mimetype": "text/x-python",
   "name": "python",
   "nbconvert_exporter": "python",
   "pygments_lexer": "ipython2",
   "version": "2.7.6"
  }
 },
 "nbformat": 4,
 "nbformat_minor": 5
}
